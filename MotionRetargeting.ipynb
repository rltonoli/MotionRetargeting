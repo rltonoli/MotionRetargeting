{
 "cells": [
  {
   "cell_type": "markdown",
   "metadata": {},
   "source": [
    "## Motion Retargeting\n",
    "### The BVH file format\n",
    "    The Biovision Hierarchy (BVH) format is used to store animation data. It provides the information to construct a character and the pose of this character at each frame of the animation. The character is animated using a skeleton, a hierarchical structure composed of joints. The sense of motion comes from changes on the orientation (and sometimes translation) of these joints.\n",
    "    The BVH file is divided into two sections: the header, identified by the keyword HIERARCHY, and the body, identified by MOTION. The header holds the skeleton hierarchy definition, i.e., the distance between each joint. The body section contains the animation, each line represents one frame in the animation and it contains the orientation (and translation) at that frame. \n",
    "    Except the root joint, the first one in the hierarchy, often used to represent the hips, every joint has a parent joint. The values stored by the BVH file are relative to the parent joint, in order words, the orientation of a joint in a given frame is the local coordinate system of that joint in respect to its parent joint coordinate system. Furthermore, the orientation at a given frame represents the rotation from the base pose to its current position - and not from the last frame."
   ]
  },
  {
   "cell_type": "code",
   "execution_count": null,
   "metadata": {},
   "outputs": [],
   "source": []
  },
  {
   "cell_type": "code",
   "execution_count": null,
   "metadata": {},
   "outputs": [],
   "source": []
  }
 ],
 "metadata": {
  "kernelspec": {
   "display_name": "Python [conda root]",
   "language": "python",
   "name": "conda-root-py"
  },
  "language_info": {
   "codemirror_mode": {
    "name": "ipython",
    "version": 3
   },
   "file_extension": ".py",
   "mimetype": "text/x-python",
   "name": "python",
   "nbconvert_exporter": "python",
   "pygments_lexer": "ipython3",
   "version": "3.6.6"
  }
 },
 "nbformat": 4,
 "nbformat_minor": 2
}
