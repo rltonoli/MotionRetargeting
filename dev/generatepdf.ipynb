{
 "cells": [
  {
   "cell_type": "code",
   "execution_count": 23,
   "metadata": {
    "scrolled": true
   },
   "outputs": [
    {
     "name": "stdout",
     "output_type": "stream",
     "text": [
      "Microsoft Windows [versÆo 10.0.17134.765]\r\n",
      "(c) 2018 Microsoft Corporation. Todos os direitos reservados.\r\n",
      "\r\n",
      "(Spyder4) C:\\Users\\Paula D. Paro Costa\\Desktop\\MotionRetargeting\\dev>powershell\n",
      "Windows PowerShell \r\n",
      "Copyright (C) Microsoft Corporation. Todos os direitos reservados.\r\n",
      "\r\n",
      "PS C:\\Users\\Paula D. Paro Costa\\Desktop\\MotionRetargeting\\dev> jupyter nbconvert --to latex --template papertemplate.tplx MotionRetargetingPaper-1.ipynb\n",
      "PS C:\\Users\\Paula D. Paro Costa\\Desktop\\MotionRetargeting\\dev> powershell pdflatex MotionRetargetingPaper-1.tex\n",
      "PS C:\\Users\\Paula D. Paro Costa\\Desktop\\MotionRetargeting\\dev> powershell bibtex reference\n",
      "PS C:\\Users\\Paula D. Paro Costa\\Desktop\\MotionRetargeting\\dev> powershell pdflatex MotionRetargetingPaper-1.tex\n",
      "PS C:\\Users\\Paula D. Paro Costa\\Desktop\\MotionRetargeting\\dev> \r\n",
      "(Spyder4) C:\\Users\\Paula D. Paro Costa\\Desktop\\MotionRetargeting\\dev>"
     ]
    },
    {
     "name": "stderr",
     "output_type": "stream",
     "text": [
      "[NbConvertApp] Converting notebook MotionRetargetingPaper-1.ipynb to latex\r\n",
      "[NbConvertApp] Writing 24379 bytes to MotionRetargetingPaper-1.tex\r\n",
      "pdflatex : O termo 'pdflatex' nÆo ‚ reconhecido como nome de cmdlet, fun‡Æo, arquivo de script ou programa oper vel. \r\n",
      "Verifique a grafia do nome ou, se um caminho tiver sido inclu¡do, veja se o caminho est  correto e tente novamente.\r\n",
      "No linha:1 caractere:1\r\n",
      "+ pdflatex MotionRetargetingPaper-1.tex\r\n",
      "+ ~~~~~~~~\r\n",
      "    + CategoryInfo          : ObjectNotFound: (pdflatex:String) [], CommandNotFoundException\r\n",
      "    + FullyQualifiedErrorId : CommandNotFoundException\r\n",
      " \r\n",
      "bibtex : O termo 'bibtex' nÆo ‚ reconhecido como nome de cmdlet, fun‡Æo, arquivo de script ou programa oper vel. \r\n",
      "Verifique a grafia do nome ou, se um caminho tiver sido inclu¡do, veja se o caminho est  correto e tente novamente.\r\n",
      "No linha:1 caractere:1\r\n",
      "+ bibtex reference\r\n",
      "+ ~~~~~~\r\n",
      "    + CategoryInfo          : ObjectNotFound: (bibtex:String) [], CommandNotFoundException\r\n",
      "    + FullyQualifiedErrorId : CommandNotFoundException\r\n",
      " \r\n",
      "pdflatex : O termo 'pdflatex' nÆo ‚ reconhecido como nome de cmdlet, fun‡Æo, arquivo de script ou programa oper vel. \r\n",
      "Verifique a grafia do nome ou, se um caminho tiver sido inclu¡do, veja se o caminho est  correto e tente novamente.\r\n",
      "No linha:1 caractere:1\r\n",
      "+ pdflatex MotionRetargetingPaper-1.tex\r\n",
      "+ ~~~~~~~~\r\n",
      "    + CategoryInfo          : ObjectNotFound: (pdflatex:String) [], CommandNotFoundException\r\n",
      "    + FullyQualifiedErrorId : CommandNotFoundException\r\n",
      " \r\n"
     ]
    }
   ],
   "source": [
    "%%cmd\n",
    "powershell\n",
    "jupyter nbconvert --to latex --template papertemplate.tplx MotionRetargetingPaper-1.ipynb\n",
    "powershell pdflatex MotionRetargetingPaper-1.tex\n",
    "powershell bibtex reference\n",
    "powershell pdflatex MotionRetargetingPaper-1.tex"
   ]
  }
 ],
 "metadata": {
  "kernelspec": {
   "display_name": "Python 3",
   "language": "python",
   "name": "python3"
  },
  "language_info": {
   "codemirror_mode": {
    "name": "ipython",
    "version": 3
   },
   "file_extension": ".py",
   "mimetype": "text/x-python",
   "name": "python",
   "nbconvert_exporter": "python",
   "pygments_lexer": "ipython3",
   "version": "3.7.3"
  }
 },
 "nbformat": 4,
 "nbformat_minor": 2
}
