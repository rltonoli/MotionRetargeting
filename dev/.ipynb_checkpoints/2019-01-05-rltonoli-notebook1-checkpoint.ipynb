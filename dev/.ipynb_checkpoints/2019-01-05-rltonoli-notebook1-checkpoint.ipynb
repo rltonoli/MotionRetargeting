{
 "cells": [
  {
   "cell_type": "markdown",
   "metadata": {},
   "source": [
    "## Motion Retargeting\n",
    "### The BVH file format\n",
    "The Biovision Hierarchy (BVH) format stores animation data. It provides the information to construct a character and the pose of this character at each frame of the animation. The character is animated using a skeleton, a hierarchical structure composed of joints. The sense of motion comes from changes on the orientation (and sometimes translation) of these joints.\n",
    "\n",
    "The BVH file is divided into two sections: the header, identified by the keyword HIERARCHY, and the body, identified by MOTION. The header holds the skeleton hierarchy definition, i.e., the distance between each joint. The body section contains the animation, each line represents one frame in the animation, and it contains the orientation (and translation) at that frame. \n",
    "\n",
    "Except for the root joint, the first one in the hierarchy that often represents the hips, every joint has a parent joint. The values stored by the BVH file are relative to the parent joint, in order words, the orientation of a joint in a given frame is the local coordinate system of that joint in respect to its parent joint coordinate system. Furthermore, the orientation at a given frame represents the rotation from the base pose to its current position - and not from the last frame.\n",
    "\n",
    "### Import Libraries"
   ]
  },
  {
   "cell_type": "code",
   "execution_count": 1,
   "metadata": {},
   "outputs": [],
   "source": [
    "import os\n",
    "import numpy as np\n",
    "import matplotlib.pyplot as plt"
   ]
  },
  {
   "cell_type": "markdown",
   "metadata": {},
   "source": [
    "### The Joint and Animation Class\n",
    "Motion Retargeting process transfer motion between two skeletons. It is defined as the Animation Class to hold the information of each skeleton animation. The most important parameters of an Animation object is the name of the animation and a reference to the root joint of the skeleton.\n",
    "\n",
    "A Joint object contains a reference to its parent (except for the root), its children and the orientation and translation at each frame. Given the root joint, any joint is reachable recursively."
   ]
  },
  {
   "cell_type": "code",
   "execution_count": 2,
   "metadata": {},
   "outputs": [],
   "source": [
    "class Animation:\n",
    "    def __init__(self, filename, root):\n",
    "        self.name = filename\n",
    "        self.root = root\n",
    "        self.listofjoints = []\n",
    "        self.surfaceinfo = []\n",
    "        self.skeletonmap = []\n",
    "        self.frames = None\n",
    "        self.frametime = None\n",
    "    \n",
    "    def getlistofjoints(self):\n",
    "        \"\"\"\n",
    "        Get list of joints in the animation\n",
    "        \"\"\"\n",
    "        if not self.listofjoints:\n",
    "            self.listofjoints = self.__auxgetlist(None, [])\n",
    "        return self.listofjoints\n",
    "            \n",
    "    def __auxgetlist(self, joint=None, listofjoints = []):\n",
    "        \"\"\"\n",
    "        Create and return list of joints in the animation\n",
    "        \"\"\"\n",
    "        if not joint:\n",
    "            joint = self.root\n",
    "        listofjoints.append(joint)\n",
    "        for child in joint.children:\n",
    "            self.__auxgetlist(child, listofjoints)\n",
    "        if joint == self.root:\n",
    "            return listofjoints\n",
    "        \n",
    "    def getJoint(self, jointname):\n",
    "        \"\"\"\n",
    "        Find the joint with jointname in the animation hierarchy\n",
    "        \"\"\"\n",
    "        return self.root.getByName(jointname)\n",
    "    \n",
    "class Joints:\n",
    "    def __init__(self, name, depth=0, parent=None):\n",
    "        self.name = name\n",
    "        self.depth = depth\n",
    "        self.children = []\n",
    "        self.parent = parent\n",
    "        self.endsite = []\n",
    "        self.translation = []\n",
    "        self.rotation = []\n",
    "        self.order = []\n",
    "        self.length = []\n",
    "        self.baserotation = []\n",
    "        if self.parent:\n",
    "            self.parent.addChild(self)\n",
    "            \n",
    "    def __iter__(self):\n",
    "        for child in self.children:\n",
    "            yield child\n",
    "            \n",
    "    def __reversed__(self):\n",
    "        while self.parent:\n",
    "            yield self.parent\n",
    "            self = self.parent\n",
    "            \n",
    "    def addChild(self, item):\n",
    "        \"\"\"\n",
    "        Called after initialization of every joint except root\n",
    "        \"\"\"\n",
    "        item.parent = self\n",
    "        self.children.append(item)\n",
    "        \n",
    "    def addOffset(self, offset):\n",
    "        self.offset = offset\n",
    "        \n",
    "    def addEndSite(self, endsite=None):\n",
    "        self.endsite = endsite\n",
    "        self.endsiteposition = []\n",
    "        \n",
    "    def getLastDepth(self, depth, jointsInDepth = []):\n",
    "        \"\"\"\n",
    "        Returns the last joint initializated with the depth provided\n",
    "        \"\"\"\n",
    "        if depth==0:\n",
    "            return self\n",
    "        else:\n",
    "            for child in self.children:\n",
    "                if child.depth == depth:\n",
    "                    jointsInDepth.append(child)\n",
    "                child.getLastDepth(depth, jointsInDepth)\n",
    "            return jointsInDepth[-1]\n",
    "        \n",
    "    def getDepth(self):\n",
    "        depth = 0\n",
    "        joint = self\n",
    "        if joint.parent:\n",
    "            while joint.parent:\n",
    "                depth = depth + 1\n",
    "                joint = joint.parent\n",
    "        return depth\n",
    "    \n",
    "    def getByName(self, name):\n",
    "        \"\"\"\n",
    "        Returns the joint object with the provided name\n",
    "        \"\"\"\n",
    "        if self.name == name:\n",
    "            return self\n",
    "        for child in self.children:\n",
    "            if child.name == name:\n",
    "                return child\n",
    "            else:\n",
    "                found = child.getByName(name)\n",
    "                if found:\n",
    "                    return found\n",
    "                \n",
    "    def printHierarchy(self, hierarchy=[]):\n",
    "        \"\"\"\n",
    "        Print hierarchy\n",
    "        \"\"\"\n",
    "        flag = False\n",
    "        if len(hierarchy)==0:\n",
    "            flag = True\n",
    "        #hierarchy.append(str.format(\"%s%s %s\" % (' '*2*int(self.depth),self.name, self.offset)))\n",
    "        print(\"%s%s %s\" % (' '*2*int(self.depth),self.name, self.offset))\n",
    "        try:\n",
    "            if len(self.endsite)>0:\n",
    "                #hierarchy.append(\"%s%s %s\" % (' '*2*(int(self.depth+1)),\"End Site\", self.endsite))\n",
    "                print(\"%s%s %s\" % (' '*2*(int(self.depth+1)),\"End Site\", self.endsite))\n",
    "        except:\n",
    "            pass\n",
    "        for child in self.children:\n",
    "            child.printHierarchy(hierarchy)\n",
    "        if flag:\n",
    "            return hierarchy"
   ]
  },
  {
   "cell_type": "markdown",
   "metadata": {
    "collapsed": true
   },
   "source": [
    "### Prepare BVH file conversion"
   ]
  },
  {
   "cell_type": "code",
   "execution_count": 3,
   "metadata": {},
   "outputs": [],
   "source": [
    "def GetBVHDataFromFile(path):  \n",
    "    \n",
    "    def GetMotionLine(joint, frame, translation=[], rotation=[]):\n",
    "        \"\"\"\n",
    "        Get rotation and translation data for the joint at the given frame.\n",
    "        \"\"\"\n",
    "        translation.append(frame.split(' ')[len(translation)*6:len(translation)*6+3])\n",
    "        rotation.append(frame.split(' ')[len(rotation)*6+3:len(rotation)*6+6])\n",
    "        joint.translation.append(translation[-1])\n",
    "        joint.rotation.append(rotation[-1])\n",
    "        for child in joint.children:\n",
    "            GetMotionLine(child,frame, translation, rotation)\n",
    "        return translation, rotation\n",
    "    \n",
    "    def Motion2NP(joint):\n",
    "        \"\"\"\n",
    "        Transform rotation and position into numpy arrays\n",
    "        \"\"\"\n",
    "        joint.translation = np.asarray(joint.translation, float)\n",
    "        joint.rotation = np.asarray(joint.rotation, float)\n",
    "        joint.offset = np.asarray(joint.offset.split(' '),float)\n",
    "        if joint.order==\"ZXY\":\n",
    "            aux = np.copy(joint.rotation[:,0])\n",
    "            joint.rotation[:,0] = np.copy(joint.rotation[:,1])\n",
    "            joint.rotation[:,1] = np.copy(joint.rotation[:,2])\n",
    "            joint.rotation[:,2] = np.copy(aux)\n",
    "        if joint.endsite:\n",
    "            joint.endsite = np.asarray(joint.endsite.split(' '),float)\n",
    "        for child in joint:\n",
    "            Motion2NP(child)\n",
    "    \n",
    "    with open(path) as file:\n",
    "        data = [line for line in file]\n",
    "    offsetList = []\n",
    "    listofjoints = []\n",
    "    flagEndSite = False\n",
    "    for line in data:\n",
    "        if line.find(\"ROOT\") >= 0:\n",
    "            #Creates root joint\n",
    "            root = Joints(name = line[5:-1])\n",
    "            lastJoint = root\n",
    "            listofjoints.append(line[5:-1])\n",
    "            #Create the object of this file\n",
    "            filename = os.path.basename(path)[:-4]\n",
    "            bvhfile = Animation(filename, root)\n",
    "        if line.find(\"JOINT\") >= 0:\n",
    "            depth = line.count('\\t')\n",
    "            if depth == 0:\n",
    "                depth = line[:line.find('JOINT')].count(' ')/2\n",
    "            parent = root.getLastDepth(depth-1)\n",
    "            #Creates joint\n",
    "            lastJoint = Joints(name = line[line.find(\"JOINT\")+6:-1], depth=depth, parent=parent)\n",
    "            listofjoints.append(line[line.find(\"JOINT\")+6:-1])\n",
    "        if line.find(\"End Site\") >= 0:\n",
    "            flagEndSite = True\n",
    "            listofjoints.append(\"End Site\")\n",
    "        if (line.find(\"OFFSET\") >= 0) and (not flagEndSite):\n",
    "            lastJoint.addOffset(line[line.find(\"OFFSET\")+7:-1])\n",
    "            offsetList.append(line[line.find(\"OFFSET\")+7:-1])\n",
    "        elif (line.find(\"OFFSET\") >= 0) and (flagEndSite):\n",
    "            lastJoint.addEndSite(line[line.find(\"OFFSET\")+7:-1])\n",
    "            flagEndSite = False\n",
    "        if (line.find(\"CHANNELS\")) >= 0:\n",
    "            X = line.find(\"Xrotation\")\n",
    "            Y = line.find(\"Yrotation\")\n",
    "            Z = line.find(\"Zrotation\")\n",
    "            if Z < X and X < Y:\n",
    "                lastJoint.order = \"ZXY\"\n",
    "            elif X < Y and Y < Z:\n",
    "                lastJoint.order = \"XYZ\"\n",
    "            else:\n",
    "                lastJoint.order(\"XYZ\")\n",
    "                print(\"Invalid Channels order. XYZ chosen.\")\n",
    "        if (line.find(\"MOTION\")) >= 0:\n",
    "            index = data.index('MOTION\\n')\n",
    "            frames = data[index+3:]\n",
    "            bvhfile.frames = int(data[index+1][8:])\n",
    "            bvhfile.frametime = float(data[index+2][12:])\n",
    "            break\n",
    "    #Go to the next line\n",
    "    for counter in range(len(frames)):\n",
    "        GetMotionLine(root, frames[counter], translation=[], rotation=[])\n",
    "    #Convert values to numpy array\n",
    "    Motion2NP(bvhfile.root)\n",
    "    return bvhfile"
   ]
  },
  {
   "cell_type": "markdown",
   "metadata": {},
   "source": [
    "### Read BVH file"
   ]
  },
  {
   "cell_type": "code",
   "execution_count": 5,
   "metadata": {},
   "outputs": [
    {
     "name": "stdout",
     "output_type": "stream",
     "text": [
      "C:\\Users\\Rodolfo\\Desktop\\IA369\\dev\\sampledata\n"
     ]
    }
   ],
   "source": [
    "filename = 'RodolfoClaping.bvh'\n",
    "currentdir = os.getcwd()\n",
    "datapath = os.path.join(currentdir, 'sampledata')\n",
    "fullpath = os.path.join(datapath, filename)\n",
    "print(fullpath)\n",
    "#animation = GetBVHDataFromFile(fullpath)"
   ]
  },
  {
   "cell_type": "markdown",
   "metadata": {},
   "source": [
    "Check the animation name and reference to the root joint"
   ]
  },
  {
   "cell_type": "code",
   "execution_count": 69,
   "metadata": {},
   "outputs": [
    {
     "name": "stdout",
     "output_type": "stream",
     "text": [
      "Animation name: RodolfoClaping. Type: <class '__main__.Animation'>\n",
      "Animation root: Hips. Type: <class '__main__.Joints'>\n",
      "Number of joints: 30\n"
     ]
    }
   ],
   "source": [
    "print('Animation name: %s. Type: %s' % (animation.name, type(animation)))\n",
    "print('Animation root: %s. Type: %s' % (animation.root.name, type(animation.root)))\n",
    "print('Number of joints: %i' % (len(animation.getlistofjoints())))"
   ]
  },
  {
   "cell_type": "markdown",
   "metadata": {},
   "source": [
    "Print the name of the joints and their distance from parents recursively"
   ]
  },
  {
   "cell_type": "code",
   "execution_count": 70,
   "metadata": {},
   "outputs": [
    {
     "name": "stdout",
     "output_type": "stream",
     "text": [
      "Hips [  5.04731  94.866    -7.60916]\n",
      "  Spine [  0.       15.3684   -2.40487]\n",
      "    Spine1 [ 0.       9.79164  0.     ]\n",
      "      Spine2 [ 0.       9.79164  0.     ]\n",
      "        Spine3 [ 0.       9.79164  0.     ]\n",
      "          Neck [  0.       12.5893    1.25893]\n",
      "            Neck1 [ 0.     4.095  0.   ]\n",
      "              Head [ 0.     4.095  0.   ]\n",
      "                End Site [ 0.       9.72808  0.     ]\n",
      "          RightShoulder [ 0.       8.99232  5.27092]\n",
      "            RightArm [  0.      21.4762   0.    ]\n",
      "              RightForeArm [  0.      30.4806   0.    ]\n",
      "                RightHand [  0.      25.7941   0.    ]\n",
      "                  RightHandThumb1 [-3.10387  3.51294  2.61218]\n",
      "                    End Site [ 0.  0.  0.]\n",
      "                  RightHandMiddle1 [ 0.         9.36783   -0.0600502]\n",
      "                    End Site [ 0.  0.  0.]\n",
      "          LeftShoulder [ 0.       8.99232  5.27092]\n",
      "            LeftArm [  0.      21.4762   0.    ]\n",
      "              LeftForeArm [  0.      30.4806   0.    ]\n",
      "                LeftHand [  0.      25.7941   0.    ]\n",
      "                  LeftHandThumb1 [ 3.10387  3.51294  2.61218]\n",
      "                    End Site [ 0.  0.  0.]\n",
      "                  LeftHandMiddle1 [ 0.         9.36783   -0.0600502]\n",
      "                    End Site [ 0.  0.  0.]\n",
      "  RightUpLeg [-10.4733   0.       0.    ]\n",
      "    RightLeg [  0.     -45.8208   0.    ]\n",
      "      RightFoot [  0.     -45.0804   0.    ]\n",
      "        RightForeFoot [ 0.      -4.41419  0.     ]\n",
      "          RightToeBase [  0.       0.      17.2874]\n",
      "            End Site [ 0.       0.       5.58569]\n",
      "  LeftUpLeg [ 10.4733   0.       0.    ]\n",
      "    LeftLeg [  0.     -45.8208   0.    ]\n",
      "      LeftFoot [  0.     -45.0804   0.    ]\n",
      "        LeftForeFoot [ 0.      -4.41419  0.     ]\n",
      "          LeftToeBase [  0.       0.      17.2874]\n",
      "            End Site [ 0.       0.       4.94953]\n"
     ]
    }
   ],
   "source": [
    "_ = animation.root.printHierarchy()"
   ]
  },
  {
   "cell_type": "markdown",
   "metadata": {},
   "source": [
    "### Animation\n",
    "The only translational joint of the hierarchy is the hips joint, or root, so that the character is able to move accros the volume. All the other joints are usually revolute, slot or spherical joints with 1, 2 and 3 degrees of freedom, respectively."
   ]
  },
  {
   "cell_type": "code",
   "execution_count": 111,
   "metadata": {},
   "outputs": [
    {
     "data": {
      "text/plain": [
       "(-0.94941374338624307, 0.80537625661375767)"
      ]
     },
     "execution_count": 111,
     "metadata": {},
     "output_type": "execute_result"
    },
    {
     "data": {
      "image/png": "[encoded data removed]",
      "text/plain": [
       "<matplotlib.figure.Figure at 0x11b415b0>"
      ]
     },
     "metadata": {
      "needs_background": "light"
     },
     "output_type": "display_data"
    }
   ],
   "source": [
    "fig = plt.figure(figsize=(12,8))\n",
    "ax1 = fig.add_subplot(221)\n",
    "ax1.set_xlabel('Frames')\n",
    "ax1.set_ylabel('Translation')\n",
    "\n",
    "for joint in animation.getlistofjoints():\n",
    "    if joint.name != 'Hips':\n",
    "        plt.plot(joint.translation - np.mean(joint.translation, axis=0))\n",
    "        \n",
    "ax2 = fig.add_subplot(222)\n",
    "plt.plot(animation.root.translation - np.mean(animation.root.translation, axis=0))\n",
    "\n",
    "mini,maxi = np.min(animation.root.translation - np.mean(animation.root.translation, axis=0)), np.max(animation.root.translation - np.mean(animation.root.translation, axis=0))\n",
    "\n",
    "#ax1.set_ylim(mini,maxi)\n",
    "ax2.set_ylim(mini,maxi)"
   ]
  }
 ],
 "metadata": {
  "anaconda-cloud": {},
  "kernelspec": {
   "display_name": "Python [conda env:Anaconda3]",
   "language": "python",
   "name": "conda-env-Anaconda3-py"
  },
  "language_info": {
   "codemirror_mode": {
    "name": "ipython",
    "version": 3
   },
   "file_extension": ".py",
   "mimetype": "text/x-python",
   "name": "python",
   "nbconvert_exporter": "python",
   "pygments_lexer": "ipython3",
   "version": "3.6.6"
  }
 },
 "nbformat": 4,
 "nbformat_minor": 2
}
